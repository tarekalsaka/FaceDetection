{
 "cells": [
  {
   "cell_type": "markdown",
   "metadata": {},
   "source": [
    "NETWORK DESING, TRAINING AND TESTING \n"
   ]
  },
  {
   "cell_type": "code",
   "execution_count": 1,
   "metadata": {},
   "outputs": [
    {
     "name": "stderr",
     "output_type": "stream",
     "text": [
      "Using TensorFlow backend.\n"
     ]
    }
   ],
   "source": [
    "import keras\n",
    "from keras import layers\n",
    "import numpy as np\n",
    "import tensorflow as tf\n",
    "from glob import glob\n",
    "import matplotlib.pylab as plt\n",
    "import os\n",
    "import shutil"
   ]
  },
  {
   "cell_type": "code",
   "execution_count": 2,
   "metadata": {},
   "outputs": [],
   "source": [
    "posCls = 'faces'\n",
    "negCls = 'backgrounds'\n",
    "root_dir = str(os.getcwd()) \n",
    "data_splitting = False\n",
    "if data_splitting:\n",
    "    os.makedirs(root_dir +'/train_data_' + posCls)\n",
    "    os.makedirs(root_dir +'/train_data_' + negCls)\n",
    "    os.makedirs(root_dir +'/val_data_' + posCls)\n",
    "    os.makedirs(root_dir +'/val_data_' + negCls)\n",
    "\n",
    "    # Creating partitions of the data after shuffeling\n",
    "    currentCls = posCls, negCls\n",
    "\n",
    "    for i in range(len(currentCls)):\n",
    "        src = root_dir + '/' + currentCls[i] # Folder to copy images from\n",
    "\n",
    "\n",
    "        allFileNames = os.listdir(src)\n",
    "        np.random.shuffle(allFileNames)\n",
    "        train_FileNames, val_FileNames = np.split(np.array(allFileNames), [int(len(allFileNames)*0.9)])    \n",
    "\n",
    "        train_FileNames = [src + \"\\\\\"  + name for name in train_FileNames.tolist()]\n",
    "        val_FileNames = [src+ '\\\\' + name for name in val_FileNames.tolist()]\n",
    "\n",
    "    #    print('Total images: ', len(allFileNames))\n",
    "    #    print('Training: ', len(train_FileNames))\n",
    "    #    print('Validation: ', len(val_FileNames))\n",
    "\n",
    "        # Copy-pasting images\n",
    "        for name in train_FileNames:\n",
    "            shutil.copy(name, root_dir + \"/train_data_\"+currentCls[i])\n",
    "\n",
    "        for name in val_FileNames:\n",
    "            shutil.copy(name, root_dir + \"/val_data_\"+currentCls[i])\n",
    "\n",
    "\n",
    "    #then create val_data folder and test_data folder and put the right folder inside\n"
   ]
  },
  {
   "cell_type": "code",
   "execution_count": 3,
   "metadata": {},
   "outputs": [],
   "source": [
    "batch_size = 128\n",
    "img_window = (16,24,1)\n",
    "input_shape = np.prod(img_window)\n",
    "\n",
    "\n",
    "#network\n",
    "def create_model(dropout_rate, neuron_1, neuron_2, neuron_3, activation_function):\n",
    "    optimizer = 'Adam'\n",
    "    model = keras.Sequential(\n",
    "        [            \n",
    "            layers.InputLayer(input_shape=img_window),\n",
    "            layers.Flatten(),\n",
    "            layers.Dense(neuron_1, activation=activation_function),\n",
    "            layers.Dropout(dropout_rate),\n",
    "            layers.Dense(neuron_2, activation=activation_function),\n",
    "            layers.Dropout(dropout_rate),\n",
    "            layers.Dense(neuron_3, activation=activation_function),\n",
    "            layers.Dense(2, activation=\"softmax\")\n",
    "        ]\n",
    "    ) \n",
    "        \n",
    "    \n",
    "    model.compile(loss=\"categorical_crossentropy\", optimizer=optimizer, metrics=[\"accuracy\"]) #\n",
    "    return model\n"
   ]
  },
  {
   "cell_type": "code",
   "execution_count": 4,
   "metadata": {},
   "outputs": [],
   "source": [
    "gridSearch = False\n",
    "if gridSearch:\n",
    "    from sklearn.model_selection import GridSearchCV\n",
    "    from keras.wrappers.scikit_learn import KerasClassifier\n",
    "    # create model\n",
    "    model = KerasClassifier(build_fn=create_model, epochs=5, batch_size=100, verbose=0)\n",
    "    \n",
    "    #optimizer = ['SGD', 'RMSprop', 'Adagrad', 'Adadelta', 'Adam', 'Adamax', 'Nadam']\n",
    "    activation_fn = ['relu', 'tanh']\n",
    "    dropout_rate = [0.1,0.2]\n",
    "    neuron_1 = [256, 128]\n",
    "    neuron_2 = [128, 64]\n",
    "    neuron_3 = [32, 16]\n",
    "    \n",
    "    #optimizer, activation_function, dropout_rate, neuron_1, neuron_2, neuron_3\n",
    "    \n",
    "    param_grid = dict(dropout_rate=dropout_rate, neuron_1=neuron_1, neuron_2=neuron_2, neuron_3=neuron_3, activation_function=activation_fn)\n",
    "    grid = GridSearchCV(estimator=model, param_grid=param_grid,cv = 3)\n",
    "    validation_generator_GS = valid_datagen.flow_from_directory(\n",
    "            'val_data',\n",
    "            target_size=img_window[:2],\n",
    "            batch_size=828, # 828 so we can use grid.fit on all the validation dataset (1 batch)\n",
    "            class_mode='categorical',\n",
    "            color_mode='grayscale')\n",
    "    X_val, Y_val = validation_generator_GS.next()\n",
    "    \n",
    "    grid_result = grid.fit(X_val, Y_val)\n",
    "  \n",
    "    # result\n",
    "    print(\"Best: %f using %s\" % (grid_result.best_score_, grid_result.best_params_))\n"
   ]
  },
  {
   "cell_type": "markdown",
   "metadata": {},
   "source": [
    "The GridSearch procedure run in google Colab produce the output: <br> Best: 0.780193 using {'activation_function': 'relu', 'dropout_rate': 0.1, 'neuron_1': 256, 'neuron_2': 128, 'neuron_3': 32}"
   ]
  },
  {
   "cell_type": "code",
   "execution_count": 5,
   "metadata": {},
   "outputs": [
    {
     "name": "stdout",
     "output_type": "stream",
     "text": [
      "Found 7444 images belonging to 2 classes.\n",
      "Found 828 images belonging to 2 classes.\n"
     ]
    }
   ],
   "source": [
    "from keras.preprocessing.image import ImageDataGenerator\n",
    "\n",
    "train_datagen = ImageDataGenerator(\n",
    "        rescale=1./255,\n",
    "        shear_range= 0.2,\n",
    "        zoom_range=0.2,\n",
    "        horizontal_flip=True)\n",
    "valid_datagen= ImageDataGenerator(\n",
    "        rescale=1./255,\n",
    "        shear_range= 0.2,\n",
    "        zoom_range=0.2,\n",
    "        horizontal_flip=True)\n",
    "\n",
    "train_generator = train_datagen.flow_from_directory(\n",
    "        'FaceDetection/train_data',\n",
    "        target_size=img_window[:2],\n",
    "        batch_size=batch_size,\n",
    "        class_mode='categorical',\n",
    "        color_mode='grayscale')\n",
    "        \n",
    "validation_generator = valid_datagen.flow_from_directory(\n",
    "        'FaceDetection/val_data',\n",
    "        target_size=img_window[:2],\n",
    "        batch_size=batch_size,\n",
    "        class_mode='categorical',\n",
    "        color_mode='grayscale')"
   ]
  },
  {
   "cell_type": "code",
   "execution_count": 6,
   "metadata": {},
   "outputs": [
    {
     "name": "stdout",
     "output_type": "stream",
     "text": [
      "Epoch 1/50\n",
      "58/58 [==============================] - 24s 422ms/step - loss: 0.5753 - accuracy: 0.7146 - val_loss: 0.4422 - val_accuracy: 0.8019\n",
      "Epoch 2/50\n",
      "58/58 [==============================] - 22s 384ms/step - loss: 0.4614 - accuracy: 0.7962 - val_loss: 0.4428 - val_accuracy: 0.83450.4\n",
      "Epoch 3/50\n",
      "58/58 [==============================] - 23s 400ms/step - loss: 0.4092 - accuracy: 0.8226 - val_loss: 0.3073 - val_accuracy: 0.8203\n",
      "Epoch 4/50\n",
      "58/58 [==============================] - 23s 401ms/step - loss: 0.3810 - accuracy: 0.8298 - val_loss: 0.4082 - val_accuracy: 0.8380\n",
      "Epoch 5/50\n",
      "58/58 [==============================] - 23s 402ms/step - loss: 0.3583 - accuracy: 0.8412 - val_loss: 0.4674 - val_accuracy: 0.7935\n",
      "Epoch 6/50\n",
      "58/58 [==============================] - 24s 410ms/step - loss: 0.3495 - accuracy: 0.8479 - val_loss: 0.2524 - val_accuracy: 0.8655\n",
      "Epoch 7/50\n",
      "58/58 [==============================] - 24s 406ms/step - loss: 0.3299 - accuracy: 0.8588 - val_loss: 0.2559 - val_accuracy: 0.8653\n",
      "Epoch 8/50\n",
      "58/58 [==============================] - 23s 394ms/step - loss: 0.3375 - accuracy: 0.8499 - val_loss: 0.3515 - val_accuracy: 0.8555\n",
      "Epoch 9/50\n",
      "58/58 [==============================] - 23s 389ms/step - loss: 0.3187 - accuracy: 0.8599 - val_loss: 0.3371 - val_accuracy: 0.8695\n",
      "Epoch 10/50\n",
      "58/58 [==============================] - 22s 374ms/step - loss: 0.3048 - accuracy: 0.8738 - val_loss: 0.2138 - val_accuracy: 0.8772\n",
      "Epoch 11/50\n",
      "58/58 [==============================] - 22s 372ms/step - loss: 0.3023 - accuracy: 0.8770 - val_loss: 0.2352 - val_accuracy: 0.8776\n",
      "Epoch 12/50\n",
      "58/58 [==============================] - 22s 379ms/step - loss: 0.2854 - accuracy: 0.8794 - val_loss: 0.3161 - val_accuracy: 0.8153\n",
      "Epoch 13/50\n",
      "58/58 [==============================] - 22s 376ms/step - loss: 0.3052 - accuracy: 0.8664 - val_loss: 0.2752 - val_accuracy: 0.8836\n",
      "Epoch 14/50\n",
      "58/58 [==============================] - 22s 374ms/step - loss: 0.2811 - accuracy: 0.8783 - val_loss: 0.3568 - val_accuracy: 0.8762\n",
      "Epoch 15/50\n",
      "58/58 [==============================] - 22s 388ms/step - loss: 0.2917 - accuracy: 0.8776 - val_loss: 0.2247 - val_accuracy: 0.8837\n",
      "Epoch 16/50\n",
      "58/58 [==============================] - 22s 382ms/step - loss: 0.2685 - accuracy: 0.8863 - val_loss: 0.2135 - val_accuracy: 0.8920\n",
      "Epoch 17/50\n",
      "58/58 [==============================] - 24s 417ms/step - loss: 0.2901 - accuracy: 0.8782 - val_loss: 0.3848 - val_accuracy: 0.8623\n",
      "Epoch 18/50\n",
      "58/58 [==============================] - 24s 411ms/step - loss: 0.2780 - accuracy: 0.8845 - val_loss: 0.2603 - val_accuracy: 0.8930\n",
      "Epoch 19/50\n",
      "58/58 [==============================] - 23s 404ms/step - loss: 0.2666 - accuracy: 0.8881 - val_loss: 0.2821 - val_accuracy: 0.8893\n",
      "Epoch 20/50\n",
      "58/58 [==============================] - 24s 413ms/step - loss: 0.2766 - accuracy: 0.8796 - val_loss: 0.3085 - val_accuracy: 0.8808\n",
      "Epoch 21/50\n",
      "58/58 [==============================] - 24s 413ms/step - loss: 0.2689 - accuracy: 0.8841 - val_loss: 0.2202 - val_accuracy: 0.8990\n",
      "Epoch 22/50\n",
      "58/58 [==============================] - 23s 402ms/step - loss: 0.2499 - accuracy: 0.9002 - val_loss: 0.2897 - val_accuracy: 0.8967\n",
      "Epoch 23/50\n",
      "58/58 [==============================] - 23s 404ms/step - loss: 0.2607 - accuracy: 0.8900 - val_loss: 0.2627 - val_accuracy: 0.8996\n",
      "Epoch 24/50\n",
      "58/58 [==============================] - 23s 399ms/step - loss: 0.2618 - accuracy: 0.8956 - val_loss: 0.2396 - val_accuracy: 0.9015\n",
      "Epoch 25/50\n",
      "58/58 [==============================] - 23s 397ms/step - loss: 0.2600 - accuracy: 0.8937 - val_loss: 0.2533 - val_accuracy: 0.8907\n",
      "Epoch 26/50\n",
      "58/58 [==============================] - 24s 407ms/step - loss: 0.2474 - accuracy: 0.8958 - val_loss: 0.3419 - val_accuracy: 0.8915\n",
      "Epoch 27/50\n",
      "58/58 [==============================] - 24s 408ms/step - loss: 0.2472 - accuracy: 0.8943 - val_loss: 0.3009 - val_accuracy: 0.8609\n",
      "Epoch 28/50\n",
      "58/58 [==============================] - 23s 401ms/step - loss: 0.2486 - accuracy: 0.8963 - val_loss: 0.2017 - val_accuracy: 0.8864\n",
      "Epoch 29/50\n",
      "58/58 [==============================] - 23s 389ms/step - loss: 0.2433 - accuracy: 0.8939 - val_loss: 0.1734 - val_accuracy: 0.9052\n",
      "Epoch 30/50\n",
      "58/58 [==============================] - 23s 401ms/step - loss: 0.2443 - accuracy: 0.8961 - val_loss: 0.2007 - val_accuracy: 0.9025\n",
      "Epoch 31/50\n",
      "58/58 [==============================] - 23s 402ms/step - loss: 0.2414 - accuracy: 0.8989 - val_loss: 0.1912 - val_accuracy: 0.8984\n",
      "Epoch 32/50\n",
      "58/58 [==============================] - 23s 402ms/step - loss: 0.2486 - accuracy: 0.8935 - val_loss: 0.2852 - val_accuracy: 0.9063\n",
      "Epoch 33/50\n",
      "58/58 [==============================] - 23s 397ms/step - loss: 0.2535 - accuracy: 0.8918 - val_loss: 0.2133 - val_accuracy: 0.8807\n",
      "Epoch 34/50\n",
      "58/58 [==============================] - 23s 405ms/step - loss: 0.2640 - accuracy: 0.8904 - val_loss: 0.2379 - val_accuracy: 0.8983\n",
      "Epoch 35/50\n",
      "58/58 [==============================] - 23s 393ms/step - loss: 0.2418 - accuracy: 0.9007 - val_loss: 0.2341 - val_accuracy: 0.9056\n",
      "Epoch 36/50\n",
      "58/58 [==============================] - 23s 401ms/step - loss: 0.2402 - accuracy: 0.9031 - val_loss: 0.1875 - val_accuracy: 0.9078\n",
      "Epoch 37/50\n",
      "58/58 [==============================] - 24s 407ms/step - loss: 0.2373 - accuracy: 0.8987 - val_loss: 0.1604 - val_accuracy: 0.9065\n",
      "Epoch 38/50\n",
      "58/58 [==============================] - 23s 398ms/step - loss: 0.2347 - accuracy: 0.9058 - val_loss: 0.2400 - val_accuracy: 0.9023\n",
      "Epoch 39/50\n",
      "58/58 [==============================] - 22s 371ms/step - loss: 0.2319 - accuracy: 0.9036 - val_loss: 0.2077 - val_accuracy: 0.9107\n",
      "Epoch 40/50\n",
      "58/58 [==============================] - 22s 371ms/step - loss: 0.2248 - accuracy: 0.9059 - val_loss: 0.3023 - val_accuracy: 0.8909\n",
      "Epoch 41/50\n",
      "58/58 [==============================] - 22s 377ms/step - loss: 0.2310 - accuracy: 0.9038 - val_loss: 0.2162 - val_accuracy: 0.8942\n",
      "Epoch 42/50\n",
      "58/58 [==============================] - 22s 373ms/step - loss: 0.2365 - accuracy: 0.8978 - val_loss: 0.2768 - val_accuracy: 0.9037\n",
      "Epoch 43/50\n",
      "58/58 [==============================] - 22s 381ms/step - loss: 0.2356 - accuracy: 0.8971 - val_loss: 0.2109 - val_accuracy: 0.9097\n",
      "Epoch 44/50\n",
      "58/58 [==============================] - 21s 369ms/step - loss: 0.2213 - accuracy: 0.9055 - val_loss: 0.2084 - val_accuracy: 0.9109\n",
      "Epoch 45/50\n",
      "58/58 [==============================] - 22s 383ms/step - loss: 0.2273 - accuracy: 0.9071 - val_loss: 0.2715 - val_accuracy: 0.9075\n",
      "Epoch 46/50\n",
      "58/58 [==============================] - 22s 382ms/step - loss: 0.2228 - accuracy: 0.9041 - val_loss: 0.3009 - val_accuracy: 0.9078\n",
      "Epoch 47/50\n",
      "58/58 [==============================] - 23s 390ms/step - loss: 0.2219 - accuracy: 0.9060 - val_loss: 0.2494 - val_accuracy: 0.9114\n",
      "Epoch 48/50\n",
      "58/58 [==============================] - 22s 373ms/step - loss: 0.2161 - accuracy: 0.9061 - val_loss: 0.2442 - val_accuracy: 0.9053\n",
      "Epoch 49/50\n",
      "58/58 [==============================] - 22s 377ms/step - loss: 0.2116 - accuracy: 0.9123 - val_loss: 0.4191 - val_accuracy: 0.9046\n",
      "Epoch 50/50\n",
      "58/58 [==============================] - 22s 374ms/step - loss: 0.2252 - accuracy: 0.9019 - val_loss: 0.2201 - val_accuracy: 0.8974\n"
     ]
    }
   ],
   "source": [
    "model_tuned = create_model(0.1, 256, 128, 16, 'relu')\n",
    "history = model_tuned.fit_generator(\n",
    "        train_generator,\n",
    "        steps_per_epoch = 58,\n",
    "        epochs = 50,\n",
    "        validation_data=validation_generator,\n",
    "        validation_steps=200\n",
    "        )"
   ]
  },
  {
   "cell_type": "code",
   "execution_count": 8,
   "metadata": {},
   "outputs": [
    {
     "name": "stdout",
     "output_type": "stream",
     "text": [
      "dict_keys(['val_loss', 'val_accuracy', 'loss', 'accuracy'])\n"
     ]
    },
    {
     "data": {
      "image/png": "[encoded data removed]",
      "text/plain": [
       "<Figure size 432x288 with 1 Axes>"
      ]
     },
     "metadata": {
      "needs_background": "light"
     },
     "output_type": "display_data"
    },
    {
     "data": {
      "image/png": "[encoded data removed]",
      "text/plain": [
       "<Figure size 432x288 with 1 Axes>"
      ]
     },
     "metadata": {
      "needs_background": "light"
     },
     "output_type": "display_data"
    }
   ],
   "source": [
    "# list all data in history\n",
    "print(history.history.keys())\n",
    "# summarize history for accuracy\n",
    "plt.plot(history.history['accuracy'])\n",
    "plt.plot(history.history['val_accuracy'])\n",
    "plt.title('model accuracy')\n",
    "plt.ylabel('accuracy')\n",
    "plt.xlabel('epoch')\n",
    "plt.legend(['train', 'test'], loc='upper left')\n",
    "plt.show()\n",
    "# summarize history for loss\n",
    "plt.plot(history.history['loss'])\n",
    "plt.plot(history.history['val_loss'])\n",
    "plt.title('model loss')\n",
    "plt.ylabel('loss')\n",
    "plt.xlabel('epoch')\n",
    "plt.legend(['train', 'val'], loc='upper left')\n",
    "plt.show()\n"
   ]
  },
  {
   "cell_type": "code",
   "execution_count": 12,
   "metadata": {},
   "outputs": [
    {
     "name": "stdout",
     "output_type": "stream",
     "text": [
      "Found 2070 images belonging to 2 classes.\n"
     ]
    }
   ],
   "source": [
    "test_datagen= ImageDataGenerator(rescale=1./255)\n",
    "        \n",
    "test_generator = test_datagen.flow_from_directory(\n",
    "        'test_data',\n",
    "        target_size=img_window[:2],\n",
    "        batch_size=2070,\n",
    "        class_mode='categorical',\n",
    "        color_mode='grayscale',\n",
    "        shuffle=False)\n",
    "filenames = test_generator.filenames\n",
    "nb_samples = len(filenames)\n",
    "# %%\n",
    "#ACCURACY\n",
    "filenames = test_generator.filenames\n",
    "nb_samples = len(filenames)\n",
    "y_pred = model_tuned.predict_generator(generator=test_generator, steps = 1) # , steps=np.ceil(nb_samples/batch_size)\n",
    "y_pred = np.argmax(y_pred, axis=1)\n",
    "y_test = test_generator.classes\n"
   ]
  },
  {
   "cell_type": "code",
   "execution_count": 14,
   "metadata": {},
   "outputs": [
    {
     "name": "stdout",
     "output_type": "stream",
     "text": [
      "Accuracy: 0.8966183574879227\n",
      "Precision: 0.8728428701180745\n",
      "Recall: 0.9285024154589372\n",
      "ROC: 0.8966183574879227\n"
     ]
    }
   ],
   "source": [
    "#MEASURE\n",
    "from sklearn.metrics import precision_score, accuracy_score,f1_score, recall_score, roc_auc_score\n",
    "precision = precision_score(y_test, y_pred)\n",
    "accuracy = accuracy_score(y_test, y_pred)\n",
    "recall = recall_score(y_test, y_pred)\n",
    "ROC = roc_auc_score(y_test, y_pred)\n",
    "print('Accuracy:', accuracy)\n",
    "print('Precision:', precision)\n",
    "print('Recall:', recall)\n",
    "print('ROC:', ROC)"
   ]
  },
  {
   "cell_type": "code",
   "execution_count": null,
   "metadata": {},
   "outputs": [],
   "source": []
  }
 ],
 "metadata": {
  "kernelspec": {
   "display_name": "Python 3",
   "language": "python",
   "name": "python3"
  },
  "language_info": {
   "codemirror_mode": {
    "name": "ipython",
    "version": 3
   },
   "file_extension": ".py",
   "mimetype": "text/x-python",
   "name": "python",
   "nbconvert_exporter": "python",
   "pygments_lexer": "ipython3",
   "version": "3.6.12"
  },
  "varInspector": {
   "cols": {
    "lenName": 16,
    "lenType": 16,
    "lenVar": 40
   },
   "kernels_config": {
    "python": {
     "delete_cmd_postfix": "",
     "delete_cmd_prefix": "del ",
     "library": "var_list.py",
     "varRefreshCmd": "print(var_dic_list())"
    },
    "r": {
     "delete_cmd_postfix": ") ",
     "delete_cmd_prefix": "rm(",
     "library": "var_list.r",
     "varRefreshCmd": "cat(var_dic_list()) "
    }
   },
   "types_to_exclude": [
    "module",
    "function",
    "builtin_function_or_method",
    "instance",
    "_Feature"
   ],
   "window_display": false
  }
 },
 "nbformat": 4,
 "nbformat_minor": 4
}
