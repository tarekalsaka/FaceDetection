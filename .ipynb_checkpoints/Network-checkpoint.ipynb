{
 "cells": [
  {
   "cell_type": "markdown",
   "metadata": {},
   "source": [
    "NETWORK DESING, TRAINING AND TESTING \n"
   ]
  },
  {
   "cell_type": "code",
   "execution_count": 13,
   "metadata": {},
   "outputs": [],
   "source": [
    "import keras\n",
    "from keras import layers\n",
    "import numpy as np\n",
    "import tensorflow as tf\n",
    "from glob import glob\n",
    "import matplotlib.pylab as plt\n",
    "import os\n",
    "import shutil"
   ]
  },
  {
   "cell_type": "code",
   "execution_count": 14,
   "metadata": {},
   "outputs": [],
   "source": [
    "posCls = 'faces'\n",
    "negCls = 'backgrounds'\n",
    "root_dir = str(os.getcwd()) \n",
    "data_splitting = False\n",
    "if data_splitting:\n",
    "    os.makedirs(root_dir +'/train_data_' + posCls)\n",
    "    os.makedirs(root_dir +'/train_data_' + negCls)\n",
    "    os.makedirs(root_dir +'/val_data_' + posCls)\n",
    "    os.makedirs(root_dir +'/val_data_' + negCls)\n",
    "\n",
    "    # Creating partitions of the data after shuffeling\n",
    "    currentCls = posCls, negCls\n",
    "\n",
    "    for i in range(len(currentCls)):\n",
    "        src = root_dir + '/' + currentCls[i] # Folder to copy images from\n",
    "\n",
    "\n",
    "        allFileNames = os.listdir(src)\n",
    "        np.random.shuffle(allFileNames)\n",
    "        train_FileNames, val_FileNames = np.split(np.array(allFileNames), [int(len(allFileNames)*0.9)])    \n",
    "\n",
    "        train_FileNames = [src + \"\\\\\"  + name for name in train_FileNames.tolist()]\n",
    "        val_FileNames = [src+ '\\\\' + name for name in val_FileNames.tolist()]\n",
    "\n",
    "    #    print('Total images: ', len(allFileNames))\n",
    "    #    print('Training: ', len(train_FileNames))\n",
    "    #    print('Validation: ', len(val_FileNames))\n",
    "\n",
    "        # Copy-pasting images\n",
    "        for name in train_FileNames:\n",
    "            shutil.copy(name, root_dir + \"/train_data_\"+currentCls[i])\n",
    "\n",
    "        for name in val_FileNames:\n",
    "            shutil.copy(name, root_dir + \"/val_data_\"+currentCls[i])\n",
    "\n",
    "\n",
    "    #then create val_data folder and test_data folder and put the right folder inside\n"
   ]
  },
  {
   "cell_type": "code",
   "execution_count": 15,
   "metadata": {},
   "outputs": [],
   "source": [
    "batch_size = 128\n",
    "img_window = (24,24,1)\n",
    "input_shape = np.prod(img_window)\n",
    "\n",
    "\n",
    "#network\n",
    "def create_model(dropout_rate, neuron_1, neuron_2, neuron_3, activation_function):\n",
    "    optimizer = 'Adam'\n",
    "    model = keras.Sequential(\n",
    "        [            \n",
    "            layers.InputLayer(input_shape=img_window),\n",
    "            layers.Flatten(),\n",
    "            layers.Dense(neuron_1, activation=activation_function),\n",
    "            layers.Dropout(dropout_rate),\n",
    "            layers.Dense(neuron_2, activation=activation_function),\n",
    "            layers.Dropout(dropout_rate),\n",
    "            layers.Dense(neuron_3, activation=activation_function),\n",
    "            layers.Dense(32, activation=activation_function),\n",
    "            layers.Dropout(dropout_rate),\n",
    "            layers.Dense(16, activation=activation_function),\n",
    "            layers.Dropout(dropout_rate),\n",
    "            layers.Dense(2, activation=\"softmax\")\n",
    "        ]\n",
    "    ) \n",
    "        \n",
    "    256,128,64,32,\n",
    "    model.compile(loss=\"categorical_crossentropy\", optimizer=optimizer, metrics=[\"accuracy\"]) #\n",
    "    return model\n"
   ]
  },
  {
   "cell_type": "code",
   "execution_count": 16,
   "metadata": {},
   "outputs": [],
   "source": [
    "gridSearch = False\n",
    "if gridSearch:\n",
    "    from sklearn.model_selection import GridSearchCV\n",
    "    from keras.wrappers.scikit_learn import KerasClassifier\n",
    "    # create model\n",
    "    model = KerasClassifier(build_fn=create_model, epochs=5, batch_size=100, verbose=0)\n",
    "    \n",
    "    #optimizer = ['SGD', 'RMSprop', 'Adagrad', 'Adadelta', 'Adam', 'Adamax', 'Nadam']\n",
    "    activation_fn = ['relu', 'tanh']\n",
    "    dropout_rate = [0.1,0.2]\n",
    "    neuron_1 = [256, 128]\n",
    "    neuron_2 = [128, 64]\n",
    "    neuron_3 = [32, 16]\n",
    "    \n",
    "    #optimizer, activation_function, dropout_rate, neuron_1, neuron_2, neuron_3\n",
    "    \n",
    "    param_grid = dict(dropout_rate=dropout_rate, neuron_1=neuron_1, neuron_2=neuron_2, neuron_3=neuron_3, activation_function=activation_fn)\n",
    "    grid = GridSearchCV(estimator=model, param_grid=param_grid,cv = 3)\n",
    "    validation_generator_GS = valid_datagen.flow_from_directory(\n",
    "            'val_data',\n",
    "            target_size=img_window[:2],\n",
    "            batch_size=828, # 828 so we can use grid.fit on all the validation dataset (1 batch)\n",
    "            class_mode='categorical',\n",
    "            color_mode='grayscale')\n",
    "    X_val, Y_val = validation_generator_GS.next()\n",
    "    \n",
    "    grid_result = grid.fit(X_val, Y_val)\n",
    "  \n",
    "    # result\n",
    "    print(\"Best: %f using %s\" % (grid_result.best_score_, grid_result.best_params_))\n"
   ]
  },
  {
   "cell_type": "markdown",
   "metadata": {},
   "source": [
    "The GridSearch procedure run in google Colab produce the output: <br> Best: 0.780193 using {'activation_function': 'relu', 'dropout_rate': 0.1, 'neuron_1': 256, 'neuron_2': 128, 'neuron_3': 32}"
   ]
  },
  {
   "cell_type": "code",
   "execution_count": 19,
   "metadata": {},
   "outputs": [
    {
     "name": "stdout",
     "output_type": "stream",
     "text": [
      "Found 7444 images belonging to 2 classes.\n",
      "Found 828 images belonging to 2 classes.\n"
     ]
    }
   ],
   "source": [
    "from keras.preprocessing.image import ImageDataGenerator\n",
    "\n",
    "#Data_augmentation \n",
    "train_datagen = ImageDataGenerator(\n",
    "        rescale=1./255,\n",
    "        shear_range= 0.2,\n",
    "        zoom_range=0.2,\n",
    "        horizontal_flip=True)\n",
    "valid_datagen= ImageDataGenerator(\n",
    "        rescale=1./255,\n",
    "        shear_range= 0.2,\n",
    "        zoom_range=0.2,\n",
    "        horizontal_flip=True)\n",
    "\n",
    "train_generator = train_datagen.flow_from_directory(\n",
    "        'train_data',\n",
    "        target_size=img_window[:2],\n",
    "        batch_size=batch_size,\n",
    "        class_mode='categorical',\n",
    "        color_mode='grayscale')\n",
    "        \n",
    "validation_generator = valid_datagen.flow_from_directory(\n",
    "        'val_data',\n",
    "        target_size=img_window[:2],\n",
    "        batch_size=batch_size,\n",
    "        class_mode='categorical',\n",
    "        color_mode='grayscale')"
   ]
  },
  {
   "cell_type": "code",
   "execution_count": 21,
   "metadata": {},
   "outputs": [
    {
     "name": "stdout",
     "output_type": "stream",
     "text": [
      "Epoch 1/50\n",
      "58/58 [==============================] - 5s 94ms/step - loss: 0.5901 - accuracy: 0.7005 - val_loss: 0.4772 - val_accuracy: 0.7656\n",
      "Epoch 2/50\n",
      "58/58 [==============================] - 5s 89ms/step - loss: 0.4613 - accuracy: 0.7873 - val_loss: 0.3751 - val_accuracy: 0.8328\n",
      "Epoch 3/50\n",
      "58/58 [==============================] - 5s 89ms/step - loss: 0.4081 - accuracy: 0.8172 - val_loss: 0.4923 - val_accuracy: 0.7016\n",
      "Epoch 4/50\n",
      "58/58 [==============================] - 5s 92ms/step - loss: 0.3943 - accuracy: 0.8230 - val_loss: 0.3538 - val_accuracy: 0.8156\n",
      "Epoch 5/50\n",
      "58/58 [==============================] - 5s 89ms/step - loss: 0.3840 - accuracy: 0.8226 - val_loss: 0.3103 - val_accuracy: 0.8578\n",
      "Epoch 6/50\n",
      "58/58 [==============================] - 5s 88ms/step - loss: 0.3562 - accuracy: 0.8431 - val_loss: 0.2942 - val_accuracy: 0.8781\n",
      "Epoch 7/50\n",
      "58/58 [==============================] - 5s 92ms/step - loss: 0.3375 - accuracy: 0.8535 - val_loss: 0.3059 - val_accuracy: 0.8687\n",
      "Epoch 8/50\n",
      "58/58 [==============================] - 5s 92ms/step - loss: 0.3405 - accuracy: 0.8488 - val_loss: 0.2974 - val_accuracy: 0.8672\n",
      "Epoch 9/50\n",
      "58/58 [==============================] - 5s 91ms/step - loss: 0.3364 - accuracy: 0.8551 - val_loss: 0.2792 - val_accuracy: 0.8766\n",
      "Epoch 10/50\n",
      "58/58 [==============================] - 8s 131ms/step - loss: 0.3249 - accuracy: 0.8569 - val_loss: 0.2784 - val_accuracy: 0.8859\n",
      "Epoch 11/50\n",
      "58/58 [==============================] - 7s 128ms/step - loss: 0.3119 - accuracy: 0.8712 - val_loss: 0.2988 - val_accuracy: 0.8750\n",
      "Epoch 12/50\n",
      "58/58 [==============================] - 6s 96ms/step - loss: 0.3084 - accuracy: 0.8686 - val_loss: 0.2727 - val_accuracy: 0.8781\n",
      "Epoch 13/50\n",
      "58/58 [==============================] - 6s 98ms/step - loss: 0.2947 - accuracy: 0.8771 - val_loss: 0.2632 - val_accuracy: 0.8906\n",
      "Epoch 14/50\n",
      "58/58 [==============================] - 7s 114ms/step - loss: 0.2845 - accuracy: 0.8797 - val_loss: 0.2607 - val_accuracy: 0.8906\n",
      "Epoch 15/50\n",
      "58/58 [==============================] - 7s 113ms/step - loss: 0.2923 - accuracy: 0.8756 - val_loss: 0.2791 - val_accuracy: 0.8813\n",
      "Epoch 16/50\n",
      "58/58 [==============================] - 6s 99ms/step - loss: 0.2974 - accuracy: 0.8740 - val_loss: 0.2780 - val_accuracy: 0.8859\n",
      "Epoch 17/50\n",
      "58/58 [==============================] - 6s 111ms/step - loss: 0.2790 - accuracy: 0.8849 - val_loss: 0.2940 - val_accuracy: 0.8687\n",
      "Epoch 18/50\n",
      "58/58 [==============================] - 6s 100ms/step - loss: 0.2830 - accuracy: 0.8797 - val_loss: 0.2747 - val_accuracy: 0.8781\n",
      "Epoch 19/50\n",
      "58/58 [==============================] - 6s 110ms/step - loss: 0.2720 - accuracy: 0.8848 - val_loss: 0.2433 - val_accuracy: 0.9047\n",
      "Epoch 20/50\n",
      "58/58 [==============================] - 6s 108ms/step - loss: 0.2746 - accuracy: 0.8809 - val_loss: 0.2431 - val_accuracy: 0.9000\n",
      "Epoch 21/50\n",
      "58/58 [==============================] - 6s 104ms/step - loss: 0.2726 - accuracy: 0.8872 - val_loss: 0.2166 - val_accuracy: 0.9156\n",
      "Epoch 22/50\n",
      "58/58 [==============================] - 7s 118ms/step - loss: 0.2752 - accuracy: 0.8856 - val_loss: 0.2560 - val_accuracy: 0.8859\n",
      "Epoch 23/50\n",
      "58/58 [==============================] - 7s 118ms/step - loss: 0.2636 - accuracy: 0.8927 - val_loss: 0.2597 - val_accuracy: 0.8906\n",
      "Epoch 24/50\n",
      "58/58 [==============================] - 6s 107ms/step - loss: 0.2662 - accuracy: 0.8886 - val_loss: 0.2572 - val_accuracy: 0.8922\n",
      "Epoch 25/50\n",
      "58/58 [==============================] - 7s 123ms/step - loss: 0.2635 - accuracy: 0.8898 - val_loss: 0.2390 - val_accuracy: 0.9000\n",
      "Epoch 26/50\n",
      "58/58 [==============================] - 6s 106ms/step - loss: 0.2711 - accuracy: 0.8868 - val_loss: 0.2888 - val_accuracy: 0.8687\n",
      "Epoch 27/50\n",
      "58/58 [==============================] - 6s 107ms/step - loss: 0.2642 - accuracy: 0.8866 - val_loss: 0.2328 - val_accuracy: 0.9047\n",
      "Epoch 28/50\n",
      "58/58 [==============================] - 7s 122ms/step - loss: 0.2527 - accuracy: 0.8964 - val_loss: 0.2762 - val_accuracy: 0.8734\n",
      "Epoch 29/50\n",
      "58/58 [==============================] - 6s 108ms/step - loss: 0.2545 - accuracy: 0.8912 - val_loss: 0.2237 - val_accuracy: 0.9078\n",
      "Epoch 30/50\n",
      "58/58 [==============================] - 6s 110ms/step - loss: 0.2607 - accuracy: 0.8917 - val_loss: 0.2517 - val_accuracy: 0.8969\n",
      "Epoch 31/50\n",
      "58/58 [==============================] - 7s 123ms/step - loss: 0.2578 - accuracy: 0.8926 - val_loss: 0.2333 - val_accuracy: 0.9062\n",
      "Epoch 32/50\n",
      "58/58 [==============================] - 6s 108ms/step - loss: 0.2505 - accuracy: 0.8979 - val_loss: 0.2176 - val_accuracy: 0.9141\n",
      "Epoch 33/50\n",
      "58/58 [==============================] - 7s 113ms/step - loss: 0.2512 - accuracy: 0.9001 - val_loss: 0.1999 - val_accuracy: 0.9219\n",
      "Epoch 34/50\n",
      "58/58 [==============================] - 6s 102ms/step - loss: 0.2471 - accuracy: 0.8982 - val_loss: 0.2070 - val_accuracy: 0.9203\n",
      "Epoch 35/50\n",
      "58/58 [==============================] - 8s 137ms/step - loss: 0.2555 - accuracy: 0.8930 - val_loss: 0.2344 - val_accuracy: 0.8984\n",
      "Epoch 36/50\n",
      "58/58 [==============================] - 6s 112ms/step - loss: 0.2475 - accuracy: 0.9004 - val_loss: 0.2353 - val_accuracy: 0.8969\n",
      "Epoch 37/50\n",
      "58/58 [==============================] - 7s 119ms/step - loss: 0.2429 - accuracy: 0.9021 - val_loss: 0.2302 - val_accuracy: 0.8969\n",
      "Epoch 38/50\n",
      "58/58 [==============================] - 6s 107ms/step - loss: 0.2305 - accuracy: 0.9042 - val_loss: 0.2917 - val_accuracy: 0.8703\n",
      "Epoch 39/50\n",
      "58/58 [==============================] - 6s 107ms/step - loss: 0.2623 - accuracy: 0.8898 - val_loss: 0.2471 - val_accuracy: 0.8984\n",
      "Epoch 40/50\n",
      "58/58 [==============================] - 6s 107ms/step - loss: 0.2511 - accuracy: 0.8958 - val_loss: 0.2580 - val_accuracy: 0.8797\n",
      "Epoch 41/50\n",
      "58/58 [==============================] - 7s 117ms/step - loss: 0.2466 - accuracy: 0.9005 - val_loss: 0.2290 - val_accuracy: 0.9094\n",
      "Epoch 42/50\n",
      "58/58 [==============================] - 6s 110ms/step - loss: 0.2311 - accuracy: 0.9087 - val_loss: 0.2538 - val_accuracy: 0.8891\n",
      "Epoch 43/50\n",
      "58/58 [==============================] - 6s 104ms/step - loss: 0.2372 - accuracy: 0.9023 - val_loss: 0.2669 - val_accuracy: 0.8875\n",
      "Epoch 44/50\n",
      "58/58 [==============================] - 6s 105ms/step - loss: 0.2367 - accuracy: 0.9047 - val_loss: 0.2167 - val_accuracy: 0.9094\n",
      "Epoch 45/50\n",
      "58/58 [==============================] - 5s 93ms/step - loss: 0.2281 - accuracy: 0.9046 - val_loss: 0.2211 - val_accuracy: 0.9078\n",
      "Epoch 46/50\n",
      "58/58 [==============================] - 7s 112ms/step - loss: 0.2439 - accuracy: 0.8983 - val_loss: 0.2363 - val_accuracy: 0.9062\n",
      "Epoch 47/50\n",
      "58/58 [==============================] - 6s 107ms/step - loss: 0.2384 - accuracy: 0.9012 - val_loss: 0.2460 - val_accuracy: 0.8875\n",
      "Epoch 48/50\n",
      "58/58 [==============================] - 6s 107ms/step - loss: 0.2228 - accuracy: 0.9071 - val_loss: 0.2208 - val_accuracy: 0.9125\n",
      "Epoch 49/50\n",
      "58/58 [==============================] - 6s 109ms/step - loss: 0.2283 - accuracy: 0.9091 - val_loss: 0.2186 - val_accuracy: 0.9031\n",
      "Epoch 50/50\n",
      "58/58 [==============================] - 7s 116ms/step - loss: 0.2290 - accuracy: 0.9064 - val_loss: 0.2218 - val_accuracy: 0.9109\n"
     ]
    }
   ],
   "source": [
    "model_tuned = create_model(0.1, 256, 128, 64, 'relu')\n",
    "history = model_tuned.fit_generator(\n",
    "        train_generator,\n",
    "        steps_per_epoch = 58,\n",
    "        epochs = 50,\n",
    "        validation_data=validation_generator,\n",
    "        validation_steps=5\n",
    "        )"
   ]
  },
  {
   "cell_type": "code",
   "execution_count": 22,
   "metadata": {},
   "outputs": [
    {
     "name": "stdout",
     "output_type": "stream",
     "text": [
      "dict_keys(['loss', 'accuracy', 'val_loss', 'val_accuracy'])\n"
     ]
    },
    {
     "data": {
      "image/png": "[encoded data removed]",
      "text/plain": [
       "<Figure size 432x288 with 1 Axes>"
      ]
     },
     "metadata": {
      "needs_background": "light"
     },
     "output_type": "display_data"
    },
    {
     "data": {
      "image/png": "[encoded data removed]",
      "text/plain": [
       "<Figure size 432x288 with 1 Axes>"
      ]
     },
     "metadata": {
      "needs_background": "light"
     },
     "output_type": "display_data"
    }
   ],
   "source": [
    "# list all data in history\n",
    "print(history.history.keys())\n",
    "# summarize history for accuracy\n",
    "plt.plot(history.history['accuracy'])\n",
    "plt.plot(history.history['val_accuracy'])\n",
    "plt.title('model accuracy')\n",
    "plt.ylabel('accuracy')\n",
    "plt.xlabel('epoch')\n",
    "plt.legend(['train', 'test'], loc='upper left')\n",
    "plt.show()\n",
    "# summarize history for loss\n",
    "plt.plot(history.history['loss'])\n",
    "plt.plot(history.history['val_loss'])\n",
    "plt.title('model loss')\n",
    "plt.ylabel('loss')\n",
    "plt.xlabel('epoch')\n",
    "plt.legend(['train', 'val'], loc='upper left')\n",
    "plt.show()\n"
   ]
  },
  {
   "cell_type": "code",
   "execution_count": 23,
   "metadata": {},
   "outputs": [
    {
     "name": "stdout",
     "output_type": "stream",
     "text": [
      "Found 2070 images belonging to 2 classes.\n"
     ]
    }
   ],
   "source": [
    "test_datagen= ImageDataGenerator(rescale=1./255)\n",
    "        \n",
    "test_generator = test_datagen.flow_from_directory(\n",
    "        'test_data',\n",
    "        target_size=img_window[:2],\n",
    "        batch_size=2070,\n",
    "        class_mode='categorical',\n",
    "        color_mode='grayscale',\n",
    "        shuffle=False)\n",
    "filenames = test_generator.filenames\n",
    "nb_samples = len(filenames)\n",
    "# %%\n",
    "#ACCURACY\n",
    "filenames = test_generator.filenames\n",
    "nb_samples = len(filenames)\n",
    "y_pred = model_tuned.predict_generator(generator=test_generator, steps = 1) # , steps=np.ceil(nb_samples/batch_size)\n",
    "y_pred = np.argmax(y_pred, axis=1)\n",
    "y_test = test_generator.classes\n"
   ]
  },
  {
   "cell_type": "code",
   "execution_count": 24,
   "metadata": {},
   "outputs": [
    {
     "name": "stdout",
     "output_type": "stream",
     "text": [
      "Accuracy: 0.9072463768115943\n",
      "Precision: 0.9025787965616046\n",
      "Recall: 0.9130434782608695\n",
      "ROC: 0.9072463768115943\n",
      "F1 0.9077809798270893\n"
     ]
    }
   ],
   "source": [
    "#MEASURE\n",
    "from sklearn.metrics import precision_score, accuracy_score,f1_score, recall_score, roc_auc_score\n",
    "precision = precision_score(y_test, y_pred)\n",
    "accuracy = accuracy_score(y_test, y_pred)\n",
    "recall = recall_score(y_test, y_pred)\n",
    "ROC = roc_auc_score(y_test, y_pred)\n",
    "F1 = 2 * (precision * recall) / (precision + recall)\n",
    "\n",
    "print('Accuracy:', accuracy)\n",
    "print('Precision:', precision)\n",
    "print('Recall:', recall)\n",
    "print('ROC:', ROC)\n",
    "print(\"F1\",F1)"
   ]
  },
  {
   "cell_type": "code",
   "execution_count": null,
   "metadata": {},
   "outputs": [],
   "source": []
  }
 ],
 "metadata": {
  "kernelspec": {
   "display_name": "Python 3",
   "language": "python",
   "name": "python3"
  },
  "language_info": {
   "codemirror_mode": {
    "name": "ipython",
    "version": 3
   },
   "file_extension": ".py",
   "mimetype": "text/x-python",
   "name": "python",
   "nbconvert_exporter": "python",
   "pygments_lexer": "ipython3",
   "version": "3.7.9"
  },
  "varInspector": {
   "cols": {
    "lenName": 16,
    "lenType": 16,
    "lenVar": 40
   },
   "kernels_config": {
    "python": {
     "delete_cmd_postfix": "",
     "delete_cmd_prefix": "del ",
     "library": "var_list.py",
     "varRefreshCmd": "print(var_dic_list())"
    },
    "r": {
     "delete_cmd_postfix": ") ",
     "delete_cmd_prefix": "rm(",
     "library": "var_list.r",
     "varRefreshCmd": "cat(var_dic_list()) "
    }
   },
   "types_to_exclude": [
    "module",
    "function",
    "builtin_function_or_method",
    "instance",
    "_Feature"
   ],
   "window_display": false
  }
 },
 "nbformat": 4,
 "nbformat_minor": 4
}
